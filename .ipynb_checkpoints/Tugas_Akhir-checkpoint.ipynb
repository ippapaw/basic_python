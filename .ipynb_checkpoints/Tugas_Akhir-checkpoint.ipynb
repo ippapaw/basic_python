{
 "cells": [
  {
   "cell_type": "markdown",
   "metadata": {
    "colab_type": "text",
    "id": "iV9b_F9lg9Rc"
   },
   "source": [
    "## Tugas Akhir"
   ]
  },
  {
   "cell_type": "code",
   "execution_count": null,
   "metadata": {
    "colab": {},
    "colab_type": "code",
    "id": "KptVbfi5grsu"
   },
   "outputs": [],
   "source": [
    "# import library\n",
    "import datetime\n",
    "import random\n",
    "import math\n",
    "import os\n",
    "\n",
    "\n",
    "print(\"Hai aku AIs, asisten virtual pertamamu\")\n",
    "print(\"Siapa namamu\")\n",
    "# ganti dengan sebuah nama\n",
    "nama  = input.....\n",
    "# variabel tanggal\n",
    "tanggal = #ambil dari datetime\n",
    "# default variabel untuk pertanyaan tidak diketahui\n",
    "default = \"maaf, aku belum paham yang kamu tanyakan\"\n",
    "\n",
    "\n",
    "print(\"Salam kenal {}\".format(nama))\n",
    "print(\"apakah ada yang bisa aku bantu?\")\n",
    "\n",
    "#munculkan menu\n",
    "#input untuk memilih menu\n",
    "#---KALKULATOR\n",
    "#buat fungsi untuk menyelesaikan beberapa persoaalan hitungan. variasi hitungan bebas\n",
    "\n",
    "\n",
    "#---AGENDA\n",
    "#Buat fungsi untuk mencatat kegiatan harian yang di simpan kedalam sebuah file.\n",
    "\n",
    "\n",
    "\n",
    "\n",
    "#---BOOTHCHAT\n",
    "# Membuat objek dictionary berisi berbagai opsi jawaban\n",
    "# list jawaban untuk pertanyaan tentang nama\n",
    "jawaban_nama = [\n",
    "      \"nama saya  {0}\".format(nama),\n",
    "      \"orang-orang memanggil saya {0}\".format(nama),\n",
    "      \"panggil saja saya {0}\".format(nama)\n",
    "   ]\n",
    "\n",
    "# list jawaban untuk pertanyaan tentang tanggal\n",
    "jawaban_tanggal = [\n",
    "      \"hari ini tanggal {0}\".format(tanggal),\n",
    "      \"ya ampun masa tidak tahu, hari ini tanggal {0}\".format(tanggal)\n",
    "    ]\n",
    "\n",
    "# opsi pertanyaan yang bisa dijawab\n",
    "pertanyaan = {\n",
    "  \"nama kamu siapa?\": jawaban_nama,\n",
    "  \"kamu siapa?\" : jawaban_nama,\n",
    "  \"tanggal berapa hari ini?\": jawaban_tanggal,\n",
    "  \"hari ini tanggal berapa?\" : jawaban_tanggal,\n",
    "  \"default\": default\n",
    "}\n",
    "\n",
    "# list jawaban untuk sebuah argument selain pertanyaan\n",
    "statement =  [\n",
    "                  'ceritakan lebih banyak!',\n",
    "                  'kenapa kamu berpikir begitu?',\n",
    "                  'sudah berapa lama kamu merasa seperti ini?',\n",
    "                  'Itu sangat menarik!',\n",
    "                  'oh wow!',\n",
    "                  ':)'\n",
    "              ]\n",
    "\n",
    "# respon keseluruhan\n",
    "responses = {\n",
    "    'pertanyaan' : pertanyaan,\n",
    "    'statement' : statement\n",
    "}\n",
    "#------\n",
    "             \n",
    "# ayo buat chatbotmu\n",
    "def chatbot(message):\n",
    "    ## code disini untuk fungsi dari chatbooth\n"
   ]
  }
 ],
 "metadata": {
  "colab": {
   "collapsed_sections": [],
   "name": "Copy of Tugas Hari 4.ipynb",
   "provenance": []
  },
  "kernelspec": {
   "display_name": "Python 3",
   "language": "python",
   "name": "python3"
  },
  "language_info": {
   "codemirror_mode": {
    "name": "ipython",
    "version": 3
   },
   "file_extension": ".py",
   "mimetype": "text/x-python",
   "name": "python",
   "nbconvert_exporter": "python",
   "pygments_lexer": "ipython3",
   "version": "3.8.3"
  }
 },
 "nbformat": 4,
 "nbformat_minor": 1
}
