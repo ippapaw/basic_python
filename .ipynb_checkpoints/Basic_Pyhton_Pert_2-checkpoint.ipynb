{
 "cells": [
  {
   "cell_type": "code",
   "execution_count": null,
   "metadata": {},
   "outputs": [],
   "source": [
    "#type data"
   ]
  },
  {
   "cell_type": "code",
   "execution_count": 1,
   "metadata": {},
   "outputs": [
    {
     "name": "stdout",
     "output_type": "stream",
     "text": [
      "temen2\n",
      "<class 'str'>\n",
      "150\n",
      "<class 'int'>\n",
      "101.1\n",
      "<class 'float'>\n",
      "False\n",
      "<class 'bool'>\n"
     ]
    }
   ],
   "source": [
    "string = \"temen2\"\n",
    "print(string)\n",
    "print(type(string))\n",
    "\n",
    "integer = 150\n",
    "print(integer)\n",
    "print(type(integer))\n",
    "\n",
    "angka_desimal = 101.1\n",
    "print(angka_desimal)\n",
    "print(type(angka_desimal))\n",
    "\n",
    "boolean = False\n",
    "print(boolean)\n",
    "print(type(boolean))"
   ]
  },
  {
   "cell_type": "code",
   "execution_count": null,
   "metadata": {},
   "outputs": [],
   "source": [
    "#konversi type data"
   ]
  },
  {
   "cell_type": "code",
   "execution_count": 2,
   "metadata": {},
   "outputs": [
    {
     "name": "stdout",
     "output_type": "stream",
     "text": [
      "1.9999999\n",
      "<class 'float'>\n",
      "1\n",
      "<class 'int'>\n",
      "100\n",
      "<class 'int'>\n",
      "100.0\n",
      "<class 'float'>\n",
      "4.5\n",
      "<class 'str'>\n",
      "4.5\n",
      "<class 'float'>\n",
      "9.9\n",
      "<class 'float'>\n",
      "9.9\n",
      "<class 'str'>\n"
     ]
    }
   ],
   "source": [
    "# float to int\n",
    "x = 1.9999999\n",
    "print(x)\n",
    "print(type(x))\n",
    "\n",
    "y = int(x)\n",
    "print(y)\n",
    "print(type(y))\n",
    "\n",
    "\n",
    "# int to float\n",
    "a = 100\n",
    "print(a)\n",
    "print(type(a))\n",
    "\n",
    "b = float(a)\n",
    "print(b)\n",
    "print(type(b))\n",
    "\n",
    "\n",
    "# str to float\n",
    "x = \"4.5\"\n",
    "print(x)\n",
    "print(type(x))\n",
    "\n",
    "y = float(x)\n",
    "print(y)\n",
    "print(type(y))\n",
    "\n",
    "# float to str\n",
    "a = 9.9\n",
    "print(a)\n",
    "print(type(a))\n",
    "\n",
    "b = str(a)\n",
    "print(b)\n",
    "print(type(b)) "
   ]
  },
  {
   "cell_type": "code",
   "execution_count": null,
   "metadata": {},
   "outputs": [],
   "source": [
    "#pembulatan"
   ]
  },
  {
   "cell_type": "code",
   "execution_count": 3,
   "metadata": {},
   "outputs": [
    {
     "name": "stdout",
     "output_type": "stream",
     "text": [
      "10\n",
      "3.141\n",
      "2\n"
     ]
    }
   ],
   "source": [
    "print(round(10)) \n",
    "print(round(3.1413, 3)) \n",
    "print(round(1.5)) "
   ]
  },
  {
   "cell_type": "code",
   "execution_count": null,
   "metadata": {},
   "outputs": [],
   "source": [
    "#If-Else Conditon"
   ]
  },
  {
   "cell_type": "code",
   "execution_count": 5,
   "metadata": {},
   "outputs": [
    {
     "name": "stdout",
     "output_type": "stream",
     "text": [
      "a lebih kecil dari b\n",
      "True\n",
      "False\n",
      "True\n",
      "False\n",
      "True\n"
     ]
    }
   ],
   "source": [
    "a = 10\n",
    "b = 11\n",
    "\n",
    "if a > b:\n",
    "    print(\"a lebih besar dari b\")\n",
    "elif a == b:\n",
    "    print(\"a sama dengan b\")\n",
    "else:\n",
    "    print(\"a lebih kecil dari b\")\n",
    "\n",
    "print(True and True)\n",
    "print(True and False)\n",
    "print(True or False)\n",
    "print(not True)\n",
    "print(not False)"
   ]
  },
  {
   "cell_type": "code",
   "execution_count": null,
   "metadata": {},
   "outputs": [],
   "source": [
    "#For Loop"
   ]
  },
  {
   "cell_type": "code",
   "execution_count": 16,
   "metadata": {},
   "outputs": [
    {
     "name": "stdout",
     "output_type": "stream",
     "text": [
      "apel\n",
      "jeruk\n",
      "mangga\n",
      "lemon\n",
      "salak\n",
      "5\n",
      "['apel', 'jeruk', 'mangga', 'lemon', 'salak']\n",
      "apel\n",
      "jeruk\n",
      "mangga\n",
      "lemon\n",
      "salak\n"
     ]
    }
   ],
   "source": [
    "nama_buah = [\"apel\", \"jeruk\", \"mangga\", \"lemon\", \"salak\"]\n",
    "\n",
    "\n",
    "print(nama_buah[0])\n",
    "print(nama_buah[1])\n",
    "print(nama_buah[2])\n",
    "print(nama_buah[3])\n",
    "print(nama_buah[4])\n",
    "print(len(nama_buah))\n",
    "print(nama_buah)\n",
    "\n",
    "for buah in nama_buah:\n",
    "    print(buah)\n",
    "\n",
    "# print(\"done\")"
   ]
  },
  {
   "cell_type": "code",
   "execution_count": null,
   "metadata": {},
   "outputs": [],
   "source": [
    "#For While"
   ]
  },
  {
   "cell_type": "code",
   "execution_count": 34,
   "metadata": {},
   "outputs": [
    {
     "name": "stdout",
     "output_type": "stream",
     "text": [
      "1\n",
      "2\n",
      "3\n",
      "4\n",
      "5\n",
      "6\n",
      "\n",
      "1\n",
      "2\n",
      "3\n",
      "4\n",
      "5\n",
      "6\n",
      "7\n",
      "8\n",
      "done\n"
     ]
    }
   ],
   "source": [
    "\n",
    "i = 1\n",
    "while i <= 6:\n",
    "    print(i)\n",
    "    i += 1\n",
    "    \n",
    "    \n",
    "print(\"\")\n",
    "for x in range(1,9):\n",
    "    print(x)\n",
    "\n",
    "print(\"done\")"
   ]
  },
  {
   "cell_type": "code",
   "execution_count": null,
   "metadata": {},
   "outputs": [],
   "source": [
    "#Break pass"
   ]
  },
  {
   "cell_type": "code",
   "execution_count": 1,
   "metadata": {},
   "outputs": [
    {
     "name": "stdout",
     "output_type": "stream",
     "text": [
      "0\n",
      "1\n",
      "2\n"
     ]
    }
   ],
   "source": [
    " for i in range(5):\n",
    "     if i == 3:\n",
    "         break\n",
    "     print(i)\n",
    "\n",
    "\n"
   ]
  },
  {
   "cell_type": "code",
   "execution_count": null,
   "metadata": {},
   "outputs": [],
   "source": [
    "nama = input(\"Masukkan nama:\" )\n",
    "print(type(nama))\n",
    "print(\"Your name is \" + nama) "
   ]
  },
  {
   "cell_type": "code",
   "execution_count": 18,
   "metadata": {},
   "outputs": [
    {
     "name": "stdout",
     "output_type": "stream",
     "text": [
      "g\n"
     ]
    }
   ],
   "source": [
    "nama= \"avcdfedfghjkl\"\n",
    "print(nama[8])"
   ]
  },
  {
   "cell_type": "code",
   "execution_count": 20,
   "metadata": {},
   "outputs": [
    {
     "name": "stdout",
     "output_type": "stream",
     "text": [
      "1 \n",
      "1 2 \n",
      "1 2 3 \n",
      "1 2 3 4 \n",
      "1 2 3 4 5 \n"
     ]
    }
   ],
   "source": [
    "rows = 5\n",
    "for row in range(1, rows+1):\n",
    "    for column in range(1, row + 1):\n",
    "        print(column, end=' ')\n",
    "    print(\"\")"
   ]
  },
  {
   "cell_type": "code",
   "execution_count": null,
   "metadata": {},
   "outputs": [],
   "source": [
    "text = int(input())\n",
    "while True:\n",
    "    if text == \"stop\" or text == \"end\":\n",
    "        print(\"Program has stopped.\")\n",
    "        break\n",
    "    print(\"text: {}\".format(text))\n",
    "    print(type(text))\n",
    "    x = int(text)\n",
    "    print(type(x))\n",
    "    text = input()\n",
    "    "
   ]
  },
  {
   "cell_type": "code",
   "execution_count": null,
   "metadata": {},
   "outputs": [],
   "source": []
  }
 ],
 "metadata": {
  "kernelspec": {
   "display_name": "Python 3",
   "language": "python",
   "name": "python3"
  },
  "language_info": {
   "codemirror_mode": {
    "name": "ipython",
    "version": 3
   },
   "file_extension": ".py",
   "mimetype": "text/x-python",
   "name": "python",
   "nbconvert_exporter": "python",
   "pygments_lexer": "ipython3",
   "version": "3.8.3"
  }
 },
 "nbformat": 4,
 "nbformat_minor": 4
}
