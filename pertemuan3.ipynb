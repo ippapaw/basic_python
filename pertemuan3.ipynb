{
 "cells": [
  {
   "cell_type": "code",
   "execution_count": null,
   "metadata": {},
   "outputs": [],
   "source": [
    "# pembahasan PR 1"
   ]
  },
  {
   "cell_type": "code",
   "execution_count": 1,
   "metadata": {},
   "outputs": [
    {
     "name": "stdout",
     "output_type": "stream",
     "text": [
      "Nama: fawwaz\n",
      "Umur: 23\n",
      "Tinggi: 290.8\n",
      "Nama saya fawwaz, umur saya 23 tahun dan tinggi saya 290.8 cm\n"
     ]
    }
   ],
   "source": [
    "# Soal 1\n",
    "nama = input(\"Nama: \")\n",
    "umur = int(input(\"Umur: \"))\n",
    "tinggi = float(input(\"Tinggi: \"))\n",
    "\n",
    "text = \"Nama saya {}, umur saya {} tahun dan tinggi saya {} cm\".format(nama, umur, tinggi)\n",
    "\n",
    "print(text)"
   ]
  },
  {
   "cell_type": "code",
   "execution_count": 8,
   "metadata": {},
   "outputs": [
    {
     "name": "stdout",
     "output_type": "stream",
     "text": [
      "Masukkan jari-jari lingkaran: 4\n",
      "Luas lingkaran: 50.29\n",
      "Luas lingkaran: 50.29\n"
     ]
    }
   ],
   "source": [
    "# Soal 2\n",
    "\n",
    "r = float(input(\"Masukkan jari-jari lingkaran: \"))\n",
    "pi = 22/7\n",
    "\n",
    "def hitung_luas_lingkaran(r):\n",
    "    luas = pi * r * r\n",
    "    return luas\n",
    "\n",
    "luas = hitung_luas_lingkaran(r)\n",
    "luas2 = round(luas,2)\n",
    "\n",
    "print(\"Luas lingkaran: {:.2f}\".format(luas))\n",
    "print(\"Luas lingkaran: {}\".format(luas2))"
   ]
  },
  {
   "cell_type": "code",
   "execution_count": 4,
   "metadata": {},
   "outputs": [
    {
     "name": "stdout",
     "output_type": "stream",
     "text": [
      "Nilai minimun: 60\n",
      "Nilai teori: 50\n",
      "Nilai prakrek: 80\n",
      "Anda mengulang ujian teori\n"
     ]
    }
   ],
   "source": [
    "# Soal 3\n",
    "\n",
    "nilai_minimum = float(input(\"Nilai minimun: \"))\n",
    "\n",
    "nilai_teori = float(input(\"Nilai teori: \"))\n",
    "nilai_praktek = float(input(\"Nilai prakrek: \"))\n",
    "\n",
    "if nilai_teori >= nilai_minimum and nilai_praktek >= nilai_minimum:\n",
    "    print(\"Lulus\")\n",
    "elif nilai_teori >= nilai_minimum and nilai_praktek < nilai_minimum:\n",
    "    print(\"Anda mengulang ujian praktek\")\n",
    "elif nilai_teori < nilai_minimum and nilai_praktek >= nilai_minimum:\n",
    "    print(\"Anda mengulang ujian teori\")\n",
    "else:\n",
    "    print(\"Anda mengulang ujian teori dan praktek\")"
   ]
  },
  {
   "cell_type": "code",
   "execution_count": null,
   "metadata": {},
   "outputs": [],
   "source": [
    "# PERTEMUAN 3\n",
    "# List dan Pendalaman untuk Loop"
   ]
  },
  {
   "cell_type": "code",
   "execution_count": 12,
   "metadata": {},
   "outputs": [
    {
     "name": "stdout",
     "output_type": "stream",
     "text": [
      "[1, 2, 3, 100]\n",
      "4\n",
      "100\n",
      "['a', 'b']\n",
      "2\n",
      "Value: 1\n",
      "Value: 2\n",
      "Value: 3\n",
      "Value: 100\n"
     ]
    }
   ],
   "source": [
    "# List\n",
    "\n",
    "mylist = []\n",
    "mylist.append(1)\n",
    "mylist.append(2)\n",
    "mylist.append(3)\n",
    "mylist.append(100)\n",
    "\n",
    "print(mylist)\n",
    "print(len(mylist))\n",
    "print(mylist[3])\n",
    "\n",
    "\n",
    "mylist2 = []\n",
    "mylist2.append(\"a\")\n",
    "mylist2.append(\"b\")\n",
    "\n",
    "print(mylist2)\n",
    "print(len(mylist2))\n",
    "\n",
    "for x in mylist:\n",
    "    print(\"Value: \" + str(x)) "
   ]
  },
  {
   "cell_type": "code",
   "execution_count": null,
   "metadata": {},
   "outputs": [],
   "source": [
    "# Pendalaman untuk for loop\n",
    "\n",
    "Kita diminta membuat sebuah program untuk menerima memasukkan sejumlah data pelanggan\n",
    "sejumlah n buah dengan n adalah integer berisi nama dan umur.\n",
    "\n",
    "Contoh:\n",
    "    \n",
    "Berapa data pelanggan: 2\n",
    "\n",
    "Masukkan data pelanggan\n",
    "\n",
    "Pelanggan ke 1\n",
    "Nama : Iqbal\n",
    "Umur : 21\n",
    "Pelanggan ke 2\n",
    "Nama : Fawwaz\n",
    "Umur : 22\n",
    "\n",
    "Pelanggan yang terdaftar adalah :\n",
    "\n",
    "Pelanggan Iqbal berumur 21\n",
    "Pelanggan Fawwaz berumur 22\n"
   ]
  },
  {
   "cell_type": "code",
   "execution_count": 16,
   "metadata": {},
   "outputs": [
    {
     "name": "stdout",
     "output_type": "stream",
     "text": [
      "Berapa data pelanggan: 2\n",
      "\n",
      "Masukkan data pelanggan\n",
      "\n",
      "Pelanggan ke 1\n",
      "Nama : Iqbal\n",
      "Umur : 21\n",
      "Pelanggan ke 2\n",
      "Nama : Fawwaz\n",
      "Umur : 22\n",
      "\n",
      "Pelanggan yang terdaftar adalah :\n",
      "\n",
      "Pelanggan Iqbal berumur 21\n",
      "Pelanggan Fawwaz berumur 22\n"
     ]
    }
   ],
   "source": [
    "\n",
    "# CONTOH KASUS\n",
    "\n",
    "count = int(input(\"Berapa data pelanggan: \"))\n",
    "\n",
    "nama_pelanggan = []\n",
    "umur_pelanggan = []\n",
    "\n",
    "print(\"\")\n",
    "print(\"Masukkan data pelanggan\")\n",
    "print(\"\")\n",
    "\n",
    "for i in range(count):\n",
    "    print(\"Pelanggan ke {}\".format(i+1))\n",
    "    nama = input(\"Nama : \")\n",
    "    umur = int(input(\"Umur : \"))\n",
    "\n",
    "    nama_pelanggan.append(nama)\n",
    "    umur_pelanggan.append(umur)\n",
    "    \n",
    "print(\"\")\n",
    "print(\"Pelanggan yang terdaftar adalah :\")\n",
    "print(\"\")\n",
    "\n",
    "for i in range(len(nama_pelanggan)):\n",
    "    print(\"Pelanggan {} berumur {}\".format(nama_pelanggan[i], umur_pelanggan[i])) "
   ]
  },
  {
   "cell_type": "code",
   "execution_count": 4,
   "metadata": {},
   "outputs": [
    {
     "name": "stdout",
     "output_type": "stream",
     "text": [
      "Strukturnya\n",
      "\n",
      "i: 0\n",
      "iterasi ke: 1\n",
      "j: 0\n",
      "j: 1\n",
      "j: 2\n",
      "\n",
      "i: 1\n",
      "iterasi ke: 2\n",
      "j: 0\n",
      "j: 1\n",
      "j: 2\n",
      "\n",
      "i: 2\n",
      "iterasi ke: 3\n",
      "j: 0\n",
      "j: 1\n",
      "j: 2\n",
      "\n",
      "Urutan Matrix\n",
      "1.11.21.31.41.5\n",
      "2.12.22.32.42.5\n",
      "3.13.23.33.43.5\n",
      "4.14.24.34.44.5\n",
      "5.15.25.35.45.5\n",
      "\n",
      "Urutan angka\n",
      "1 2 3 4 5 \n",
      "6 7 8 9 10 \n",
      "11 12 13 14 15 \n",
      "16 17 18 19 20 \n",
      "21 22 23 24 25 \n"
     ]
    }
   ],
   "source": [
    "#Nested Loop\n",
    "\n",
    "print(\"Strukturnya\")\n",
    "for i in range(3):\n",
    "    print(\"\")\n",
    "    print(\"i: {}\".format(i))\n",
    "    print(\"iterasi ke: {}\".format(i+1))\n",
    "    for j in range(3):\n",
    "        print(\"j: {}\".format(j))\n",
    "        \n",
    "print(\"\")\n",
    "print(\"Urutan Matrix\")\n",
    "\n",
    "for baris in range(5):\n",
    "    for kolom in range(5):\n",
    "        print(\"{}.{}\".format(baris+1,kolom+1), end=\"\")\n",
    "    print(\"\")\n",
    "\n",
    "print(\"\")\n",
    "print(\"Urutan angka\")\n",
    "\n",
    "count = 1\n",
    "for baris in range(5):\n",
    "    for kolom in range(5):\n",
    "        print(count, end=\" \")\n",
    "        count = count + 1\n",
    "    print() "
   ]
  },
  {
   "cell_type": "code",
   "execution_count": 7,
   "metadata": {},
   "outputs": [
    {
     "name": "stdout",
     "output_type": "stream",
     "text": [
      "Masukkan angka :3\n",
      "         \n",
      "       * \n",
      "    *  *  * \n",
      " *  *  *  *  * \n",
      "\n"
     ]
    }
   ],
   "source": [
    "# Soal Bonus\n",
    "\n",
    "string = \"\"\n",
    "\n",
    "x = int(input(\"Masukkan angka :\"))\n",
    "bar = x\n",
    "# Looping Baris\n",
    "while bar >= 0:\n",
    "# Looping Kolom Spasi Kosong\n",
    "    kol = bar\n",
    "    while kol > 0:\n",
    "        string = string + \"   \"\n",
    "        kol = kol - 1\n",
    "    \n",
    "    # Looping Kolom Bintang Sisi Kiri\n",
    "    kiri = 1\n",
    "    while kiri < (x - (bar-1)):\n",
    "        string = string + \" * \"\n",
    "        kiri = kiri + 1\n",
    "        \n",
    "    # Looping Kolom Bintang Sisi Kanan\n",
    "    kanan = 1\n",
    "    while kanan < kiri -1:\n",
    "        string = string + \" * \"\n",
    "        kanan = kanan + 1\n",
    "\n",
    "    string = string + \"\\n\"\n",
    "    bar = bar - 1\n",
    "    \n",
    "print (string)"
   ]
  },
  {
   "cell_type": "code",
   "execution_count": null,
   "metadata": {},
   "outputs": [],
   "source": []
  }
 ],
 "metadata": {
  "kernelspec": {
   "display_name": "Python 3",
   "language": "python",
   "name": "python3"
  },
  "language_info": {
   "codemirror_mode": {
    "name": "ipython",
    "version": 3
   },
   "file_extension": ".py",
   "mimetype": "text/x-python",
   "name": "python",
   "nbconvert_exporter": "python",
   "pygments_lexer": "ipython3",
   "version": "3.8.3"
  }
 },
 "nbformat": 4,
 "nbformat_minor": 4
}
