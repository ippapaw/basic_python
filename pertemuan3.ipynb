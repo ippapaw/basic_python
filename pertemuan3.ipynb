{
 "cells": [
  {
   "cell_type": "code",
   "execution_count": null,
   "metadata": {},
   "outputs": [],
   "source": [
    "# pembahasan PR 1"
   ]
  },
  {
   "cell_type": "code",
   "execution_count": 5,
   "metadata": {},
   "outputs": [
    {
     "name": "stdout",
     "output_type": "stream",
     "text": [
      "Nama: fawwaz\n",
      "Umur: 34\n",
      "Tinggi: 254\n",
      "Nama saya fawwaz, umur saya 34 tahun dan tinggi saya 254.0 cm\n"
     ]
    }
   ],
   "source": [
    "# Soal 1\n",
    "nama = input(\"Nama: \")\n",
    "umur = int(input(\"Umur: \"))\n",
    "tinggi = float(input(\"Tinggi: \"))\n",
    "\n",
    "text = \"Nama saya {}, umur saya {} tahun dan tinggi saya {} cm\".format(nama, umur, tinggi)\n",
    "\n",
    "print(text)"
   ]
  },
  {
   "cell_type": "code",
   "execution_count": 14,
   "metadata": {},
   "outputs": [
    {
     "name": "stdout",
     "output_type": "stream",
     "text": [
      "Masukkan jari-jari lingkaran: 3\n",
      "Luas lingkaran: 27.00\n",
      "Luas lingkaran: 27.0\n",
      "3\n"
     ]
    }
   ],
   "source": [
    "# Soal 2\n",
    "\n",
    "r = float(input(\"Masukkan jari-jari lingkaran: \"))\n",
    "pi = 22//7\n",
    "\n",
    "def hitung_luas_lingkaran(r):\n",
    "    luas = pi * r * r\n",
    "    return luas\n",
    "\n",
    "luas = hitung_luas_lingkaran(r)\n",
    "luas2 = round(luas,2)\n",
    "\n",
    "\n",
    "print(\"Luas lingkaran: {:.2f}\".format(luas))\n",
    "print(\"Luas lingkaran: {}\".format(luas2))\n",
    "\n",
    "print(pi)"
   ]
  },
  {
   "cell_type": "code",
   "execution_count": 7,
   "metadata": {},
   "outputs": [
    {
     "name": "stdout",
     "output_type": "stream",
     "text": [
      "Nilai minimun: 30\n",
      "Nilai teori: 40\n",
      "Nilai prakrek: 50\n",
      "Lulus\n"
     ]
    }
   ],
   "source": [
    "# Soal 3\n",
    "\n",
    "nilai_minimum = float(input(\"Nilai minimun: \"))\n",
    "\n",
    "nilai_teori = float(input(\"Nilai teori: \"))\n",
    "nilai_praktek = float(input(\"Nilai prakrek: \"))\n",
    "\n",
    "if nilai_teori >= nilai_minimum and nilai_praktek >= nilai_minimum:\n",
    "    print(\"Lulus\")\n",
    "elif nilai_teori >= nilai_minimum and nilai_praktek < nilai_minimum:\n",
    "    print(\"Anda mengulang ujian praktek\")\n",
    "elif nilai_teori < nilai_minimum and nilai_praktek >= nilai_minimum:\n",
    "    print(\"Anda mengulang ujian teori\")\n",
    "else:\n",
    "    print(\"Anda mengulang ujian teori dan praktek\")"
   ]
  },
  {
   "cell_type": "code",
   "execution_count": null,
   "metadata": {},
   "outputs": [],
   "source": [
    "# PERTEMUAN 3\n",
    "# List dan Pendalaman untuk Loop"
   ]
  },
  {
   "cell_type": "code",
   "execution_count": 15,
   "metadata": {},
   "outputs": [
    {
     "name": "stdout",
     "output_type": "stream",
     "text": [
      "[1, 2, 3, 100]\n",
      "4\n",
      "100\n",
      "['a', 'b']\n",
      "2\n",
      "[1, 2, 3]\n",
      "Value: 1\n",
      "Value: 2\n",
      "Value: 3\n"
     ]
    }
   ],
   "source": [
    "# List\n",
    "\n",
    "mylist = []\n",
    "mylist.append(1)\n",
    "mylist.append(2)\n",
    "mylist.append(3)\n",
    "mylist.append(100)\n",
    "\n",
    "print(mylist)\n",
    "print(len(mylist))\n",
    "print(mylist[3])\n",
    "\n",
    "\n",
    "mylist2 = []\n",
    "mylist2.append(\"a\")\n",
    "mylist2.append(\"b\")\n",
    "\n",
    "print(mylist2)\n",
    "print(len(mylist2))\n",
    "mylist.remove(100)\n",
    "print(mylist)\n",
    "\n",
    "for x in mylist:\n",
    "    print(\"Value: \" + str(x)) "
   ]
  },
  {
   "cell_type": "code",
   "execution_count": null,
   "metadata": {},
   "outputs": [],
   "source": [
    "# Pendalaman untuk list dan loop\n",
    "\n",
    "Kita diminta membuat sebuah program untuk menerima memasukkan sejumlah data pelanggan\n",
    "sejumlah n buah dengan n adalah integer berisi nama dan umur.\n",
    "\n",
    "Contoh:\n",
    "    \n",
    "Berapa data pelanggan: 2\n",
    "\n",
    "Masukkan data pelanggan\n",
    "\n",
    "Pelanggan ke 1\n",
    "Nama : Iqbal\n",
    "Umur : 21\n",
    "Pelanggan ke 2\n",
    "Nama : Fawwaz\n",
    "Umur : 22\n",
    "\n",
    "Pelanggan yang terdaftar adalah :\n",
    "\n",
    "Pelanggan Iqbal berumur 21\n",
    "Pelanggan Fawwaz berumur 22\n"
   ]
  },
  {
   "cell_type": "code",
   "execution_count": 9,
   "metadata": {},
   "outputs": [
    {
     "name": "stdout",
     "output_type": "stream",
     "text": [
      "Berapa data pelanggan: 1\n",
      "\n",
      "Masukkan data pelanggan\n",
      "\n",
      "Pelanggan ke 1\n",
      "Nama : fawwaz\n",
      "Umur : 30\n",
      "\n",
      "Pelanggan yang terdaftar adalah :\n",
      "\n",
      "Pelanggan fawwaz berumur 30\n"
     ]
    }
   ],
   "source": [
    "\n",
    "# CONTOH KASUS\n",
    "\n",
    "count = int(input(\"Berapa data pelanggan: \"))\n",
    "\n",
    "nama_pelanggan = []\n",
    "umur_pelanggan = []\n",
    "\n",
    "print(\"\")\n",
    "print(\"Masukkan data pelanggan\")\n",
    "print(\"\")\n",
    "\n",
    "for i in range(count):\n",
    "    print(\"Pelanggan ke {}\".format(i+1))\n",
    "    nama = input(\"Nama : \")\n",
    "    umur = int(input(\"Umur : \"))\n",
    "\n",
    "    nama_pelanggan.append(nama)\n",
    "    umur_pelanggan.append(umur)\n",
    "    \n",
    "print(\"\")\n",
    "print(\"Pelanggan yang terdaftar adalah :\")\n",
    "print(\"\")\n",
    "\n",
    "for i in range(len(nama_pelanggan)):\n",
    "    print(\"Pelanggan {} berumur {}\".format(nama_pelanggan[i], umur_pelanggan[i])) "
   ]
  },
  {
   "cell_type": "code",
   "execution_count": 10,
   "metadata": {},
   "outputs": [
    {
     "name": "stdout",
     "output_type": "stream",
     "text": [
      "Strukturnya\n",
      "\n",
      "i: 0\n",
      "iterasi ke: 1\n",
      "j: 0\n",
      "j: 1\n",
      "j: 2\n",
      "\n",
      "i: 1\n",
      "iterasi ke: 2\n",
      "j: 0\n",
      "j: 1\n",
      "j: 2\n",
      "\n",
      "i: 2\n",
      "iterasi ke: 3\n",
      "j: 0\n",
      "j: 1\n",
      "j: 2\n",
      "\n",
      "Urutan Matrix\n",
      "1.1 1.2 1.3 1.4 1.5 \n",
      "2.1 2.2 2.3 2.4 2.5 \n",
      "3.1 3.2 3.3 3.4 3.5 \n",
      "4.1 4.2 4.3 4.4 4.5 \n",
      "5.1 5.2 5.3 5.4 5.5 \n",
      "\n",
      "Urutan angka\n",
      "1 2 3 4 5 \n",
      "6 7 8 9 10 \n",
      "11 12 13 14 15 \n",
      "16 17 18 19 20 \n",
      "21 22 23 24 25 \n"
     ]
    }
   ],
   "source": [
    "#Nested Loop\n",
    "\n",
    "print(\"Strukturnya\")\n",
    "for i in range(3):\n",
    "    print(\"\")\n",
    "    print(\"i: {}\".format(i))\n",
    "    print(\"iterasi ke: {}\".format(i+1))\n",
    "    for j in range(3):\n",
    "        print(\"j: {}\".format(j))\n",
    "        \n",
    "print(\"\")\n",
    "print(\"Urutan Matrix\")\n",
    "\n",
    "for baris in range(5):\n",
    "    for kolom in range(5):\n",
    "        print(\"{}.{}\".format(baris+1,kolom+1), end=\" \")\n",
    "    print(\"\")\n",
    "\n",
    "print(\"\")\n",
    "print(\"Urutan angka\")\n",
    "\n",
    "count = 1\n",
    "for baris in range(5):\n",
    "    for kolom in range(5):\n",
    "        print(count, end=\" \")\n",
    "        count = count + 1\n",
    "    print() "
   ]
  },
  {
   "cell_type": "code",
   "execution_count": null,
   "metadata": {},
   "outputs": [],
   "source": [
    "# Soal Bonus\n",
    "\n",
    "string = \"\"\n",
    "\n",
    "x = int(input(\"Masukkan angka :\"))\n",
    "bar = x\n",
    "# Looping Baris\n",
    "while bar >= 0:\n",
    "# Looping Kolom Spasi Kosong\n",
    "    kol = bar\n",
    "    while kol > 0:\n",
    "        string = string + \"   \"\n",
    "        kol = kol - 1\n",
    "    \n",
    "    # Looping Kolom Bintang Sisi Kiri\n",
    "    kiri = 1\n",
    "    while kiri < (x - (bar-1)):\n",
    "        string = string + \" * \"\n",
    "        kiri = kiri + 1\n",
    "    \n",
    "    # Looping Kolom Bintang Sisi Kanan\n",
    "    kanan = 1\n",
    "    while kanan < kiri -1:\n",
    "        string = string + \" * \"\n",
    "        kanan = kanan + 1\n",
    "\n",
    "    string = string + \"\\n\"\n",
    "    bar = bar - 1\n",
    "    \n",
    "print (string)"
   ]
  }
 ],
 "metadata": {
  "kernelspec": {
   "display_name": "Python 3",
   "language": "python",
   "name": "python3"
  },
  "language_info": {
   "codemirror_mode": {
    "name": "ipython",
    "version": 3
   },
   "file_extension": ".py",
   "mimetype": "text/x-python",
   "name": "python",
   "nbconvert_exporter": "python",
   "pygments_lexer": "ipython3",
   "version": "3.8.3"
  }
 },
 "nbformat": 4,
 "nbformat_minor": 4
}
