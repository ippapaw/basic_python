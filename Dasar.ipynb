{
 "cells": [
  {
   "cell_type": "code",
   "execution_count": 5,
   "metadata": {},
   "outputs": [
    {
     "name": "stdout",
     "output_type": "stream",
     "text": [
      "temen2\n",
      "<class 'str'>\n",
      "150\n",
      "<class 'int'>\n",
      "101.1\n",
      "<class 'float'>\n",
      "False\n",
      "<class 'bool'>\n"
     ]
    }
   ],
   "source": [
    "string = \"temen2\"\n",
    "print(string)\n",
    "print(type(string))\n",
    "\n",
    "integer = 150\n",
    "print(integer)\n",
    "print(type(integer))\n",
    "\n",
    "angka_desimal = 101.1\n",
    "print(angka_desimal)\n",
    "print(type(angka_desimal))\n",
    "\n",
    "boolean = False\n",
    "print(boolean)\n",
    "print(type(boolean))"
   ]
  },
  {
   "cell_type": "code",
   "execution_count": 2,
   "metadata": {},
   "outputs": [
    {
     "name": "stdout",
     "output_type": "stream",
     "text": [
      "1.9999999\n",
      "<class 'float'>\n",
      "1\n",
      "<class 'int'>\n",
      "100\n",
      "<class 'int'>\n",
      "100.0\n",
      "<class 'float'>\n",
      "4.5\n",
      "<class 'str'>\n",
      "4.5\n",
      "<class 'float'>\n",
      "9.9\n",
      "<class 'float'>\n",
      "9.9\n",
      "<class 'str'>\n"
     ]
    }
   ],
   "source": [
    "# float to int\n",
    "x = 1.9999999\n",
    "print(x)\n",
    "print(type(x))\n",
    "\n",
    "y = int(x)\n",
    "print(y)\n",
    "print(type(y))\n",
    "\n",
    "\n",
    "# int to float\n",
    "a = 100\n",
    "print(a)\n",
    "print(type(a))\n",
    "\n",
    "b = float(a)\n",
    "print(b)\n",
    "print(type(b))\n",
    "\n",
    "\n",
    "# str to float\n",
    "x = \"4.5\"\n",
    "print(x)\n",
    "print(type(x))\n",
    "\n",
    "y = float(x)\n",
    "print(y)\n",
    "print(type(y))\n",
    "\n",
    "# float to str\n",
    "a = 9.9\n",
    "print(a)\n",
    "print(type(a))\n",
    "\n",
    "b = str(a)\n",
    "print(b)\n",
    "print(type(b)) "
   ]
  },
  {
   "cell_type": "code",
   "execution_count": 11,
   "metadata": {},
   "outputs": [
    {
     "name": "stdout",
     "output_type": "stream",
     "text": [
      "10\n",
      "3.141\n",
      "2\n"
     ]
    }
   ],
   "source": [
    "print(round(10)) \n",
    "print(round(3.1413, 3)) \n",
    "print(round(1.5)) "
   ]
  },
  {
   "cell_type": "code",
   "execution_count": 1,
   "metadata": {},
   "outputs": [
    {
     "name": "stdout",
     "output_type": "stream",
     "text": [
      "Masukkan angka :4\n",
      "            \n",
      "\n",
      "          * \n",
      "\n",
      "       *  *  * \n",
      "\n",
      "    *  *  *  *  * \n",
      "\n",
      " *  *  *  *  *  *  * \n",
      "\n",
      "\n"
     ]
    }
   ],
   "source": [
    "string = \"\"\n",
    "\n",
    "x = int(input(\"Masukkan angka :\"))\n",
    "bar = x\n",
    "# Looping Baris\n",
    "while bar >= 0:\n",
    "\t# Looping Kolom Spasi Kosong\n",
    "\tkol = bar\n",
    "\twhile kol > 0:\n",
    "\t\tstring = string + \"   \"\n",
    "\t\tkol = kol - 1\n",
    "\t# Looping Kolom Bintang Sisi Kiri\t\n",
    "\tkiri = 1\n",
    "\twhile kiri < (x - (bar-1)):\n",
    "\t\tstring = string + \" * \"\n",
    "\t\tkiri = kiri + 1\t\t\n",
    "\t# Looping Kolom Bintang Sisi Kanan\n",
    "\tkanan = 1\n",
    "\twhile kanan < kiri -1:\n",
    "\t\tstring = string + \" * \"\n",
    "\t\tkanan = kanan + 1\t\n",
    "\n",
    "\tstring = string + \"\\n\\n\"\n",
    "\tbar = bar - 1\n",
    "\t\n",
    "print (string)"
   ]
  },
  {
   "cell_type": "code",
   "execution_count": null,
   "metadata": {},
   "outputs": [],
   "source": []
  }
 ],
 "metadata": {
  "kernelspec": {
   "display_name": "Python 3",
   "language": "python",
   "name": "python3"
  },
  "language_info": {
   "codemirror_mode": {
    "name": "ipython",
    "version": 3
   },
   "file_extension": ".py",
   "mimetype": "text/x-python",
   "name": "python",
   "nbconvert_exporter": "python",
   "pygments_lexer": "ipython3",
   "version": "3.8.3"
  }
 },
 "nbformat": 4,
 "nbformat_minor": 4
}
