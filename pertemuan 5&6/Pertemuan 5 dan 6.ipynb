{
 "cells": [
  {
   "cell_type": "code",
   "execution_count": 10,
   "metadata": {},
   "outputs": [
    {
     "name": "stdout",
     "output_type": "stream",
     "text": [
      "This is line 1\n",
      "\n",
      "This is line 2\n",
      "\n",
      "This is line 3\n",
      "\n",
      "This is line 4\n",
      "\n",
      "This is line 5\n",
      "\n",
      "This is line 6\n",
      "\n",
      "This is line 7\n",
      "\n",
      "This is line 8\n",
      "\n",
      "This is line 9\n",
      "\n",
      "This is line 10\n",
      "\n",
      "appended line 1\n",
      "\n",
      "appended line 2\n",
      "\n"
     ]
    }
   ],
   "source": [
    "#handling file\n",
    "def main():\n",
    "    #f= open(\"pertemuan_5.txt\",\"w+\")\n",
    "    #for i in range(10):\n",
    "    #     f.write(\"This is line %d\\r\\n\" % (i+1))\n",
    "    #f.close()\n",
    "    #f=open(\"pertemuan_5.txt\",\"a+\")\n",
    "    #for i in range(2):\n",
    "    #    f.write(\"appended line %d\\r\\n\" % (i+1))\n",
    "    #f.close()\n",
    "    #Open the file back and read the contents\n",
    "    f=open(\"pertemuan_5.txt\", \"r\")\n",
    "    #if f.mode == 'r':\n",
    "    #    contents =f.read()\n",
    "    #    print (contents)\n",
    "    #or, readlines reads the individual line into a list\n",
    "    fl =f.readlines()\n",
    "    for x in fl:\n",
    "        print(x)\n",
    "    f= open(\"pertemuan_51.txt\",\"x+\")\n",
    "    for i in range(10):\n",
    "         f.write(\"This is test for x %d\\r\\n\" % (i+1))\n",
    "    f.close()\n",
    "\n",
    "\n",
    "    \n",
    "main()\n",
    "#remove file\n",
    "import os\n",
    "\n",
    "file_path = \"pertemuan_51.txt\"\n",
    "\n",
    "if os.path.exists(file_path):\n",
    "    os.remove(file_path)\n",
    "    print(\"file \" + file_path + \" deleted\")\n",
    "else:\n",
    "    print(\"file not exist\") "
   ]
  },
  {
   "cell_type": "code",
   "execution_count": 2,
   "metadata": {
    "scrolled": true
   },
   "outputs": [
    {
     "name": "stdout",
     "output_type": "stream",
     "text": [
      "2020-11-21 14:19:01.729666\n",
      "2020\n",
      "A = Saturday\n",
      "a = Sat\n",
      "w = 6\n",
      "d = 21\n",
      "b = Nov\n",
      "B = November\n",
      "m = 11\n",
      "y = 20\n",
      "Y = 2020\n",
      "H = 14\n",
      "I = 02\n",
      "p = PM\n",
      "M = 19\n",
      "S = 01\n",
      "f = 729666\n",
      "j = 326\n",
      "U = 46\n",
      "W = 46\n",
      "c = Sat Nov 21 14:19:01 2020\n",
      "x = 11/21/20\n",
      "X = 14:19:01\n",
      "2020-05-17\n",
      "May\n",
      "12:05:17\n"
     ]
    }
   ],
   "source": [
    "# date time\n",
    "import datetime\n",
    "\n",
    "x = datetime.datetime.now()\n",
    "print(x)\n",
    "print(x.year)\n",
    "print(\"A = \" + x.strftime(\"%A\"))\n",
    "print(\"a = \" + x.strftime(\"%a\"))\n",
    "print(\"w = \" + x.strftime(\"%w\"))\n",
    "print(\"d = \" + x.strftime(\"%d\"))\n",
    "print(\"b = \" + x.strftime(\"%b\"))\n",
    "print(\"B = \" + x.strftime(\"%B\"))\n",
    "print(\"m = \" + x.strftime(\"%m\"))\n",
    "print(\"y = \" + x.strftime(\"%y\"))\n",
    "print(\"Y = \" + x.strftime(\"%Y\"))\n",
    "print(\"H = \" + x.strftime(\"%H\"))\n",
    "print(\"I = \" + x.strftime(\"%I\"))\n",
    "print(\"p = \" + x.strftime(\"%p\"))\n",
    "print(\"M = \" + x.strftime(\"%M\"))\n",
    "print(\"S = \" + x.strftime(\"%S\"))\n",
    "print(\"f = \" + x.strftime(\"%f\"))\n",
    "print(\"j = \" + x.strftime(\"%j\"))\n",
    "print(\"U = \" + x.strftime(\"%U\"))\n",
    "print(\"W = \" + x.strftime(\"%W\"))\n",
    "print(\"c = \" + x.strftime(\"%c\"))\n",
    "print(\"x = \" + x.strftime(\"%x\"))\n",
    "print(\"X = \" + x.strftime(\"%X\"))\n",
    "\n",
    "#setting manual data in datetime format\n",
    "y = datetime.date(2020, 5, 17)\n",
    "print(y)\n",
    "print(y.strftime(\"%B\"))\n",
    "\n",
    "z = datetime.time(12, 5, 17)\n",
    "print(z)"
   ]
  },
  {
   "cell_type": "code",
   "execution_count": 2,
   "metadata": {},
   "outputs": [
    {
     "name": "stdout",
     "output_type": "stream",
     "text": [
      "3.141592653589793\n",
      "11.180339887498949\n",
      "8\n",
      "7\n",
      "1.0\n",
      "125.0\n"
     ]
    }
   ],
   "source": [
    "#math module\n",
    "import math\n",
    "\n",
    "x = math.pi\n",
    "print(x)\n",
    "\n",
    "x = math.sqrt(125)\n",
    "print(x)\n",
    "\n",
    "x = math.ceil(7.9)\n",
    "print(x)\n",
    "\n",
    "x = math.floor(7.9)\n",
    "print(x) \n",
    "\n",
    "x = math.fmod(10,3)\n",
    "print(x) \n",
    "\n",
    "x = math.pow(5,3)\n",
    "print(x)\n",
    "\n",
    "#help()"
   ]
  },
  {
   "cell_type": "code",
   "execution_count": null,
   "metadata": {},
   "outputs": [],
   "source": [
    "help()\n",
    "    "
   ]
  },
  {
   "cell_type": "code",
   "execution_count": 4,
   "metadata": {},
   "outputs": [
    {
     "name": "stdout",
     "output_type": "stream",
     "text": [
      "5\n",
      "5\n",
      "Farhan\n",
      "Andi\n",
      "Hello my name is Farhan\n",
      "Hello my name is Andi\n"
     ]
    }
   ],
   "source": [
    "#class\n",
    "class MyClass:\n",
    "    x = 5\n",
    "\n",
    "p1 = MyClass()\n",
    "p2 = MyClass()\n",
    "print(p1.x)\n",
    "print(p2.x)\n",
    "\n",
    "\n",
    "class Person:\n",
    "    def __init__(self, name, age):\n",
    "        self.name = name\n",
    "        self.age = age\n",
    "\n",
    "    def greeting(self):\n",
    "        print(\"Hello my name is \" + self.name)\n",
    "\n",
    "person1 = Person(\"Farhan\", 21)\n",
    "person2 = Person(\"Andi\", 18)\n",
    "print(person1.name)\n",
    "print(person2.name)\n",
    "\n",
    "person1.greeting()\n",
    "person2.greeting() "
   ]
  },
  {
   "cell_type": "code",
   "execution_count": null,
   "metadata": {},
   "outputs": [],
   "source": []
  }
 ],
 "metadata": {
  "kernelspec": {
   "display_name": "Python 3",
   "language": "python",
   "name": "python3"
  },
  "language_info": {
   "codemirror_mode": {
    "name": "ipython",
    "version": 3
   },
   "file_extension": ".py",
   "mimetype": "text/x-python",
   "name": "python",
   "nbconvert_exporter": "python",
   "pygments_lexer": "ipython3",
   "version": "3.8.3"
  }
 },
 "nbformat": 4,
 "nbformat_minor": 4
}
