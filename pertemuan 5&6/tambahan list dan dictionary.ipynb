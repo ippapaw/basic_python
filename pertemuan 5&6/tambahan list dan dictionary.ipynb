{
 "cells": [
  {
   "cell_type": "code",
   "execution_count": 1,
   "metadata": {
    "colab": {
     "base_uri": "https://localhost:8080/",
     "height": 34
    },
    "colab_type": "code",
    "executionInfo": {
     "elapsed": 2391,
     "status": "ok",
     "timestamp": 1592816937600,
     "user": {
      "displayName": "Satria Hidayat",
      "photoUrl": "https://lh3.googleusercontent.com/a-/AOh14GhsYUNvFZjfxYKCbXyjNFmWSbQ4Usl-EY9fczORNw=s64",
      "userId": "02498930834284932999"
     },
     "user_tz": -420
    },
    "id": "qXKteY88szI5",
    "outputId": "d202bdf6-8c88-4207-fe31-3e16cdb6d666"
   },
   "outputs": [
    {
     "data": {
      "text/plain": [
       "['13b', 'aa1', 1.32, 22.1, 2.34]"
      ]
     },
     "execution_count": 1,
     "metadata": {},
     "output_type": "execute_result"
    }
   ],
   "source": [
    "a = ['1', '13b', 'aa1', 1.32, 22.1, 2.34]\n",
    "# slicing list\n",
    "a[1:6]"
   ]
  },
  {
   "cell_type": "code",
   "execution_count": null,
   "metadata": {},
   "outputs": [],
   "source": [
    "##Nested List"
   ]
  },
  {
   "cell_type": "code",
   "execution_count": null,
   "metadata": {
    "colab": {
     "base_uri": "https://localhost:8080/",
     "height": 34
    },
    "colab_type": "code",
    "executionInfo": {
     "elapsed": 791,
     "status": "ok",
     "timestamp": 1592817388911,
     "user": {
      "displayName": "Satria Hidayat",
      "photoUrl": "https://lh3.googleusercontent.com/a-/AOh14GhsYUNvFZjfxYKCbXyjNFmWSbQ4Usl-EY9fczORNw=s64",
      "userId": "02498930834284932999"
     },
     "user_tz": -420
    },
    "id": "JCac4gPfszJO",
    "outputId": "53e78db9-3c45-4044-ec22-4a8c646430a2"
   },
   "outputs": [
    {
     "data": {
      "text/plain": [
       "[[1.32, 22.1, 2.34], [3, 40, 100], ['1', '13b', 'aa1']]"
      ]
     },
     "execution_count": 6,
     "metadata": {
      "tags": []
     },
     "output_type": "execute_result"
    }
   ],
   "source": [
    "a = [1.32, 22.1, 2.34]\n",
    "b = ['1', '13b', 'aa1']\n",
    "c = [3, 40, 100]\n",
    "# combine list\n",
    "d = [a, c, b]\n",
    "d"
   ]
  },
  {
   "cell_type": "code",
   "execution_count": null,
   "metadata": {},
   "outputs": [],
   "source": [
    "##Akses Nested List"
   ]
  },
  {
   "cell_type": "code",
   "execution_count": 4,
   "metadata": {
    "colab": {
     "base_uri": "https://localhost:8080/",
     "height": 34
    },
    "colab_type": "code",
    "executionInfo": {
     "elapsed": 1286,
     "status": "ok",
     "timestamp": 1592817617124,
     "user": {
      "displayName": "Satria Hidayat",
      "photoUrl": "https://lh3.googleusercontent.com/a-/AOh14GhsYUNvFZjfxYKCbXyjNFmWSbQ4Usl-EY9fczORNw=s64",
      "userId": "02498930834284932999"
     },
     "user_tz": -420
    },
    "id": "IhFh_WCzszJo",
    "outputId": "c4de2ffb-68b3-4cbc-8561-bb6459aec709"
   },
   "outputs": [
    {
     "data": {
      "text/plain": [
       "8"
      ]
     },
     "execution_count": 4,
     "metadata": {},
     "output_type": "execute_result"
    }
   ],
   "source": [
    "a = [\n",
    "    [5, 9, 8],\n",
    "    [0, 0, 6]\n",
    "    ]\n",
    "# subsetting list\n",
    "a[0][2]"
   ]
  },
  {
   "cell_type": "code",
   "execution_count": null,
   "metadata": {},
   "outputs": [],
   "source": [
    "##Built in Function List"
   ]
  },
  {
   "cell_type": "code",
   "execution_count": 6,
   "metadata": {
    "colab": {
     "base_uri": "https://localhost:8080/",
     "height": 51
    },
    "colab_type": "code",
    "executionInfo": {
     "elapsed": 1582,
     "status": "ok",
     "timestamp": 1592817652934,
     "user": {
      "displayName": "Satria Hidayat",
      "photoUrl": "https://lh3.googleusercontent.com/a-/AOh14GhsYUNvFZjfxYKCbXyjNFmWSbQ4Usl-EY9fczORNw=s64",
      "userId": "02498930834284932999"
     },
     "user_tz": -420
    },
    "id": "oCz3O7gAszJ6",
    "outputId": "79d3fa22-6460-4ecb-a626-eadac28268ba"
   },
   "outputs": [
    {
     "name": "stdout",
     "output_type": "stream",
     "text": [
      "[10, 9, 5, 4, 2, 0]\n",
      "0\n"
     ]
    }
   ],
   "source": [
    "p = [0, 5, 2, 10, 4, 9]\n",
    "\n",
    "print(sorted(p, reverse=True))\n",
    "\n",
    "print(min(p))"
   ]
  },
  {
   "cell_type": "code",
   "execution_count": null,
   "metadata": {},
   "outputs": [],
   "source": [
    "##List Operation"
   ]
  },
  {
   "cell_type": "code",
   "execution_count": null,
   "metadata": {
    "colab": {
     "base_uri": "https://localhost:8080/",
     "height": 34
    },
    "colab_type": "code",
    "executionInfo": {
     "elapsed": 1153,
     "status": "ok",
     "timestamp": 1592817677458,
     "user": {
      "displayName": "Satria Hidayat",
      "photoUrl": "https://lh3.googleusercontent.com/a-/AOh14GhsYUNvFZjfxYKCbXyjNFmWSbQ4Usl-EY9fczORNw=s64",
      "userId": "02498930834284932999"
     },
     "user_tz": -420
    },
    "id": "N-dxC1qYszKJ",
    "outputId": "b1010e1d-21d6-481e-b40d-7841106cb3b7"
   },
   "outputs": [
    {
     "data": {
      "text/plain": [
       "[5, 1, 3, 1, 3, 5]"
      ]
     },
     "execution_count": 11,
     "metadata": {
      "tags": []
     },
     "output_type": "execute_result"
    }
   ],
   "source": [
    "a = [1, 3, 5]\n",
    "b = [5, 1, 3]\n",
    "\n",
    "b+a"
   ]
  },
  {
   "cell_type": "code",
   "execution_count": null,
   "metadata": {},
   "outputs": [],
   "source": [
    "## List Manipulation"
   ]
  },
  {
   "cell_type": "code",
   "execution_count": null,
   "metadata": {
    "colab": {
     "base_uri": "https://localhost:8080/",
     "height": 34
    },
    "colab_type": "code",
    "executionInfo": {
     "elapsed": 1135,
     "status": "ok",
     "timestamp": 1592817735582,
     "user": {
      "displayName": "Satria Hidayat",
      "photoUrl": "https://lh3.googleusercontent.com/a-/AOh14GhsYUNvFZjfxYKCbXyjNFmWSbQ4Usl-EY9fczORNw=s64",
      "userId": "02498930834284932999"
     },
     "user_tz": -420
    },
    "id": "GOZQAPg9szKa",
    "outputId": "4679fc75-b6c7-4546-9175-90569304ea3f"
   },
   "outputs": [
    {
     "name": "stdout",
     "output_type": "stream",
     "text": [
      "[[5, 9, 10], [11, 0, 6]]\n"
     ]
    }
   ],
   "source": [
    "a = [\n",
    "    [5, 9, 8],\n",
    "    [0, 0, 6]\n",
    "    ]\n",
    "\n",
    "a[0][2] = 10\n",
    "a[1][0] = 11\n",
    "print(a)"
   ]
  },
  {
   "cell_type": "code",
   "execution_count": null,
   "metadata": {},
   "outputs": [],
   "source": [
    "## List Comprehension"
   ]
  },
  {
   "cell_type": "code",
   "execution_count": 9,
   "metadata": {
    "colab": {
     "base_uri": "https://localhost:8080/",
     "height": 34
    },
    "colab_type": "code",
    "executionInfo": {
     "elapsed": 829,
     "status": "ok",
     "timestamp": 1592817987777,
     "user": {
      "displayName": "Satria Hidayat",
      "photoUrl": "https://lh3.googleusercontent.com/a-/AOh14GhsYUNvFZjfxYKCbXyjNFmWSbQ4Usl-EY9fczORNw=s64",
      "userId": "02498930834284932999"
     },
     "user_tz": -420
    },
    "id": "xs3OWJP_Z5rb",
    "outputId": "e0c31393-023f-4911-c7f3-61d790118d28"
   },
   "outputs": [
    {
     "name": "stdout",
     "output_type": "stream",
     "text": [
      "[0, 1, 4, 9, 16, 25, 36, 49, 64, 81]\n",
      "[0, 4, 16, 36, 64]\n",
      "['1', '2', '4', '6', 2, '5', '7', '8']\n",
      "[2, '1', '2', '6', '8', '7', '5', '4']\n"
     ]
    }
   ],
   "source": [
    "#mencari yang genap\n",
    "S = [0, 1, 4, 9, 16, 25, 36, 49, 64, 81]\n",
    "\n",
    "T = [i for i in S if i%2==0]\n",
    "\n",
    "print(S)\n",
    "print(T)\n",
    "\n",
    "obj_list = [\"1\", \"2\", \"4\", \"6\", 2, \"1\", \"4\", \"5\", \"7\", \"8\", \"6\"]\n",
    "\n",
    "\n",
    "# solusi tanpa menggunakan set\n",
    "def remove_duplicate(obj_list):\n",
    "  new_list = []\n",
    "  for i in obj_list:\n",
    "    if i not in new_list:\n",
    "        new_list.append(i)\n",
    "  return new_list\n",
    "\n",
    "# solusi dengan menggunakan set\n",
    "def remove_duplicate_with_set(obj_list):\n",
    "  new_list = list(set(obj_list))\n",
    "  return new_list\n",
    "\n",
    "\n",
    "print(remove_duplicate(obj_list))\n",
    "print(remove_duplicate_with_set(obj_list))"
   ]
  },
  {
   "cell_type": "code",
   "execution_count": 9,
   "metadata": {},
   "outputs": [],
   "source": [
    "## Nested Dictionary"
   ]
  },
  {
   "cell_type": "code",
   "execution_count": 10,
   "metadata": {
    "colab": {
     "base_uri": "https://localhost:8080/",
     "height": 74
    },
    "colab_type": "code",
    "executionInfo": {
     "elapsed": 1030,
     "status": "ok",
     "timestamp": 1592819611403,
     "user": {
      "displayName": "sanbercode bootcamp",
      "photoUrl": "",
      "userId": "18158929944494725927"
     },
     "user_tz": -420
    },
    "id": "OAkJDiGd6qo7",
    "outputId": "df33f58c-3ca5-4334-a084-fe0dc95bd84e"
   },
   "outputs": [
    {
     "name": "stdout",
     "output_type": "stream",
     "text": [
      "berlin\n",
      "{'spain': {'capital': 'madrid', 'population': 46.77}, 'france': {'capital': 'paris', 'population': 66.03}, 'germany': {'capital': 'berlin', 'population': 80.62}, 'norway': {'capital': 'oslo', 'population': 5.084}, 'indonesia': {'capital': 'jakarta', 'population': '250'}}\n"
     ]
    }
   ],
   "source": [
    "country = { \n",
    "           'spain': { 'capital':'madrid', 'population':46.77 },\n",
    "           'france': { 'capital':'paris', 'population':66.03 },\n",
    "           'germany': { 'capital':'berlin', 'population':80.62 },\n",
    "           'norway': { 'capital':'oslo', 'population':5.084 } \n",
    "         }\n",
    "\n",
    "# berapa populasi dari ibu kota german?\n",
    "print(country['germany']['capital'])\n",
    "\n",
    "# update data baru, yaitu negara indonesia dengan capital jakarta dan poulasi 250\n",
    "country['indonesia'] = { 'capital':'jakarta', 'population':'250' }\n",
    "\n",
    "print(country)"
   ]
  },
  {
   "cell_type": "code",
   "execution_count": null,
   "metadata": {},
   "outputs": [],
   "source": [
    "## Loop nested dictionary"
   ]
  },
  {
   "cell_type": "code",
   "execution_count": 2,
   "metadata": {
    "colab": {
     "base_uri": "https://localhost:8080/",
     "height": 109
    },
    "colab_type": "code",
    "executionInfo": {
     "elapsed": 885,
     "status": "ok",
     "timestamp": 1592820191038,
     "user": {
      "displayName": "sanbercode bootcamp",
      "photoUrl": "",
      "userId": "18158929944494725927"
     },
     "user_tz": -420
    },
    "id": "SkYQ0sD76qpA",
    "outputId": "0038e4bf-c934-4539-b4cb-af9132f8ad6d"
   },
   "outputs": [],
   "source": [
    "country = { \n",
    "           'spain': { 'capital':'madrid', 'population':46.77 },\n",
    "           'france': { 'capital':'paris', 'population':66.03 },\n",
    "           'germany': { 'capital':'berlin', 'population':80.62 },\n",
    "           'norway': { 'capital':'oslo', 'population':5.084 },\n",
    "           'indonesia' : {'capital':'jakarta', 'population':250}\n",
    "         }\n",
    "\n"
   ]
  },
  {
   "cell_type": "code",
   "execution_count": 3,
   "metadata": {},
   "outputs": [
    {
     "name": "stdout",
     "output_type": "stream",
     "text": [
      "Ibukota spain adalah madrid\n",
      "Ibukota france adalah paris\n",
      "Ibukota germany adalah berlin\n",
      "Ibukota norway adalah oslo\n",
      "Ibukota indonesia adalah jakarta\n"
     ]
    }
   ],
   "source": [
    "for k, v in country.items():\n",
    "    print('Ibukota '+ str(k) +' adalah ' + str(v['capital']))"
   ]
  },
  {
   "cell_type": "code",
   "execution_count": null,
   "metadata": {},
   "outputs": [],
   "source": []
  }
 ],
 "metadata": {
  "colab": {
   "collapsed_sections": [],
   "name": "Copy of Tugas Hari 4.ipynb",
   "provenance": []
  },
  "kernelspec": {
   "display_name": "Python 3",
   "language": "python",
   "name": "python3"
  },
  "language_info": {
   "codemirror_mode": {
    "name": "ipython",
    "version": 3
   },
   "file_extension": ".py",
   "mimetype": "text/x-python",
   "name": "python",
   "nbconvert_exporter": "python",
   "pygments_lexer": "ipython3",
   "version": "3.8.3"
  }
 },
 "nbformat": 4,
 "nbformat_minor": 1
}
