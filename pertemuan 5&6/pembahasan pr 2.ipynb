{
 "cells": [
  {
   "cell_type": "code",
   "execution_count": null,
   "metadata": {},
   "outputs": [
    {
     "name": "stdout",
     "output_type": "stream",
     "text": [
      "Selamat Datang!\n",
      "--- Menu ---\n",
      "1. Daftar Kontak\n",
      "2. Tambah Kontak\n",
      "3. Keluar\n",
      "Pilih menu: 1\n",
      "Daftar Kontak:\n",
      "--- Menu ---\n",
      "1. Daftar Kontak\n",
      "2. Tambah Kontak\n",
      "3. Keluar\n"
     ]
    }
   ],
   "source": [
    "\n",
    "# Tugas 2, Soal 1\n",
    "\n",
    "print(\"Selamat Datang!\")\n",
    "\n",
    "daftar_kontak = []\n",
    "\n",
    "def tampilkan_menu():\n",
    "    print(\"--- Menu ---\")\n",
    "    print(\"1. Daftar Kontak\")\n",
    "    print(\"2. Tambah Kontak\")\n",
    "    print(\"3. Keluar\")\n",
    "\n",
    "def tampilkan_kontak():\n",
    "    print(\"Daftar Kontak:\")\n",
    "    for kontak in daftar_kontak:\n",
    "        print(\"Nama: \" + kontak[\"nama\"])\n",
    "        print(\"No Telepon: \" + kontak[\"telp\"])\n",
    "\n",
    "def tambah_kontak():\n",
    "    nama = input(\"Nama: \")\n",
    "    telp = input(\"No Telepon: \")\n",
    "    kontak = {\n",
    "        \"nama\": nama,\n",
    "        \"telp\": telp\n",
    "    }\n",
    "    daftar_kontak.append(kontak)\n",
    "    print(\"Kontak berhasil ditambahkan\")\n",
    "\n",
    "while True:\n",
    "\n",
    "    tampilkan_menu()\n",
    "\n",
    "    menu = input(\"Pilih menu: \")\n",
    "\n",
    "    if menu == \"1\":\n",
    "        tampilkan_kontak()\n",
    "    elif menu == \"2\":\n",
    "        tambah_kontak()\n",
    "    elif menu == \"3\":\n",
    "        print(\"Program selesai, sampai jumpa!\")\n",
    "        break\n",
    "    else:\n",
    "        print(\"Menu tidak tersedia\")\n",
    "\n"
   ]
  },
  {
   "cell_type": "code",
   "execution_count": null,
   "metadata": {},
   "outputs": [],
   "source": []
  },
  {
   "cell_type": "code",
   "execution_count": null,
   "metadata": {},
   "outputs": [],
   "source": []
  }
 ],
 "metadata": {
  "kernelspec": {
   "display_name": "Python 3",
   "language": "python",
   "name": "python3"
  },
  "language_info": {
   "codemirror_mode": {
    "name": "ipython",
    "version": 3
   },
   "file_extension": ".py",
   "mimetype": "text/x-python",
   "name": "python",
   "nbconvert_exporter": "python",
   "pygments_lexer": "ipython3",
   "version": "3.8.3"
  }
 },
 "nbformat": 4,
 "nbformat_minor": 4
}
