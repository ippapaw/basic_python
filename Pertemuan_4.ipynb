{
 "cells": [
  {
   "cell_type": "code",
   "execution_count": 19,
   "metadata": {},
   "outputs": [
    {
     "name": "stdout",
     "output_type": "stream",
     "text": [
      "{'nama': 'fawwaz', 'umur': 21}\n",
      "Nama: fawwaz\n",
      "Umur: 21\n",
      "Nama: fawwaz\n",
      "Umur: 22\n",
      "{'nama': 'fawwaz', 'umur': 22}\n",
      "nama\n",
      "fawwaz\n",
      "andi\n",
      "umur\n",
      "22\n",
      "18\n",
      "Nama: fawwaz\n",
      "Umur: 22\n",
      "Nama: andi\n",
      "Umur: 18\n"
     ]
    }
   ],
   "source": [
    "#Dictionary\n",
    "\n",
    "pelanggan = {\"nama\": \"fawwaz\",\"umur\": 21}\n",
    "\n",
    "pelanggan_2 = {\n",
    "    \"nama\": \"andi\",\n",
    "    \"umur\": 18\n",
    "}\n",
    "\n",
    "print(pelanggan)\n",
    "print(\"Nama: {}\".format(pelanggan[\"nama\"]))\n",
    "print(\"Umur: {}\".format(pelanggan[\"umur\"]))\n",
    "\n",
    "# change value of dictionary\n",
    "pelanggan[\"umur\"] = 22\n",
    "\n",
    "print(\"Nama: {}\".format(pelanggan[\"nama\"]))\n",
    "print(\"Umur: {}\".format(pelanggan[\"umur\"]))\n",
    "print(pelanggan)\n",
    "\n",
    "\n",
    "#delete data\n",
    "data = {'Name': 'Zara', 'Age': 7, 'Class': 'First'}\n",
    "\n",
    "del data['Name'] # hapus entri dengan key 'Name'\n",
    "data.clear()     # hapus semua entri di dict\n",
    "del data         # hapus dictionary yang sudah ada\n",
    "\n",
    "\n",
    "print(data)\n",
    "\n",
    "# loop through dictionary\n",
    "for x in pelanggan:\n",
    "    print(x)\n",
    "    print(pelanggan[x])   \n",
    "    print(pelanggan_2[x])   \n",
    "\n",
    " "
   ]
  },
  {
   "cell_type": "code",
   "execution_count": 32,
   "metadata": {
    "scrolled": true
   },
   "outputs": [
    {
     "name": "stdout",
     "output_type": "stream",
     "text": [
      "nama\n",
      "fawwaz\n",
      "andi\n",
      "umur\n",
      "21\n",
      "18\n",
      "class\n",
      "vip\n",
      "vvip\n",
      "[{'nama': 'fawwaz', 'umur': 21, 'class': 'vip'}, {'nama': 'andi', 'umur': 18, 'class': 'vvip'}]\n",
      "Nama: fawwaz\n",
      "Umur: 21\n",
      "Nama: andi\n",
      "Umur: 18\n"
     ]
    }
   ],
   "source": [
    "pelanggan = {\n",
    "    \"nama\": \"fawwaz\",\n",
    "    \"umur\": 21,\n",
    "    \"class\":\"vip\"\n",
    "}\n",
    "\n",
    "pelanggan_2 = {\n",
    "    \"nama\": \"andi\",\n",
    "    \"umur\": 18,\n",
    "    \"class\":\"vvip\"\n",
    "}\n",
    "\n",
    "\n",
    "# loop through dictionary\n",
    "for x in pelanggan:\n",
    "    print(x)\n",
    "    print(pelanggan[x])   \n",
    "    print(pelanggan_2[x])  \n",
    "    \n",
    "    # list of dictionary\n",
    "daftar_pelanggan = []\n",
    "daftar_pelanggan.append(pelanggan)\n",
    "daftar_pelanggan.append(pelanggan_2)\n",
    "\n",
    "print(daftar_pelanggan)\n",
    "\n",
    "for x in daftar_pelanggan:\n",
    "    print(\"Nama: {}\".format(x[\"nama\"]))\n",
    "    print(\"Umur: {}\".format(x[\"umur\"]))"
   ]
  },
  {
   "cell_type": "code",
   "execution_count": 30,
   "metadata": {},
   "outputs": [
    {
     "name": "stdout",
     "output_type": "stream",
     "text": [
      "[{'nama': 'andi', 'umur': 18, 'class': 'vvip'}, {'nama': 'andi', 'umur': 18, 'class': 'vvip'}]\n",
      "Nama: andi\n",
      "Umur: 18\n",
      "Nama: andi\n",
      "Umur: 18\n"
     ]
    }
   ],
   "source": [
    "# list of dictionary\n",
    "daftar_pelanggan = []\n",
    "daftar_pelanggan.append(pelanggan)\n",
    "daftar_pelanggan.append(pelanggan_2)\n",
    "\n",
    "print(daftar_pelanggan)\n",
    "\n",
    "for pelanggan in daftar_pelanggan:\n",
    "    print(\"Nama: {}\".format(pelanggan[\"nama\"]))\n",
    "    print(\"Umur: {}\".format(pelanggan[\"umur\"]))"
   ]
  },
  {
   "cell_type": "code",
   "execution_count": 15,
   "metadata": {},
   "outputs": [
    {
     "name": "stdout",
     "output_type": "stream",
     "text": [
      "Hello from a function\n",
      "Hello James\n",
      "Hello fawwaz\n",
      "The youngest child is Linus\n",
      "The oldest child is Emil\n",
      "The middle child is Tobias\n",
      "15\n",
      "25\n",
      "45\n"
     ]
    },
    {
     "data": {
      "text/plain": [
       "8"
      ]
     },
     "execution_count": 15,
     "metadata": {},
     "output_type": "execute_result"
    }
   ],
   "source": [
    "#Function\n",
    "\n",
    "#general\n",
    "def my_function():\n",
    "    print(\"Hello from a function\")\n",
    "    print(\"ini adalah fungsi\")\n",
    "    print(\"ini nyoba aja\")\n",
    "\n",
    "my_function()\n",
    "\n",
    "#parameter\n",
    "def my_function(name):\n",
    "    print(\"Hello \" + name )\n",
    "\n",
    "my_function(\"James\")\n",
    "\n",
    "#default parameter\n",
    "def my_function(name=\"\"):\n",
    "    print(\"Hello \" + name )\n",
    "    \n",
    "my_function(\"fawwaz\")\n",
    "\n",
    "#banyak parameter\n",
    "def my_function(child3, child2, child1):\n",
    "    print(\"The youngest child is \" + child3)\n",
    "    print(\"The oldest child is \" + child1)\n",
    "    print(\"The middle child is \" + child2)\n",
    "my_function(child1 = \"Emil\", child2 = \"Tobias\", child3 = \"Linus\")\n",
    "\n",
    "def my_function(x):\n",
    "    return 5 * x\n",
    "print(my_function(3))\n",
    "print(my_function(5))\n",
    "print(my_function(9))\n",
    "\n",
    "#contoh\n",
    "def luas_persegi(sisi):\n",
    "    luas = sisi * sisi\n",
    "    return luas\n",
    "\n",
    "def volume(sisi):\n",
    "    volume = luas_persegi(sisi) * sisi\n",
    "    return volume\n",
    "    \n",
    "luas_persegi(2)\n",
    "volume(2)"
   ]
  },
  {
   "cell_type": "code",
   "execution_count": 6,
   "metadata": {},
   "outputs": [
    {
     "name": "stdout",
     "output_type": "stream",
     "text": [
      "{'Name': 'Zara', 'Age': 7, 'Class': 'First'}\n"
     ]
    }
   ],
   "source": [
    "#Delete dictionary\n",
    "data = {'Name': 'Zara', 'Age': 7, 'Class': 'First'}\n",
    "\n",
    "#del data['Name'] # hapus entri dengan key 'Name'\n",
    "#data.clear()     # hapus semua entri di dict\n",
    "#del data         # hapus dictionary yang sudah ada\n",
    "\n",
    "\n",
    "print(data)\n",
    "#print(\"dict['Age']: \", data['Age'])\n",
    "#print(\"dict['School']: \", data['Class'])\n"
   ]
  },
  {
   "cell_type": "code",
   "execution_count": 35,
   "metadata": {},
   "outputs": [
    {
     "name": "stdout",
     "output_type": "stream",
     "text": [
      "Hello from a function\n",
      "ini adalah fungsi\n",
      "ini nyoba aja\n",
      "Hello from a function\n",
      "ini adalah fungsi\n",
      "ini nyoba aja\n",
      "Hello from a function\n",
      "ini adalah fungsi\n",
      "ini nyoba aja\n"
     ]
    }
   ],
   "source": [
    "def my_function():\n",
    "    print(\"Hello from a function\")\n",
    "    print(\"ini adalah fungsi\")\n",
    "    print(\"ini nyoba aja\")\n",
    "    \n",
    "my_function()\n",
    "my_function()\n",
    "my_function()"
   ]
  },
  {
   "cell_type": "code",
   "execution_count": 5,
   "metadata": {},
   "outputs": [
    {
     "name": "stdout",
     "output_type": "stream",
     "text": [
      "Masukkan sisi: 3\n",
      "27.0\n"
     ]
    }
   ],
   "source": [
    "sisi = float(input(\"Masukkan sisi: \"))\n",
    "def luas1(sisi):\n",
    "    luas = sisi * sisi\n",
    "    return luas\n",
    "\n",
    "def luas2(sisi):\n",
    "    luas = sisi * sisi\n",
    "    print(luas)\n",
    "\n",
    "def volume(sisi):\n",
    "    volume = luas1(sisi) * sisi\n",
    "    print(volume)\n",
    "\n",
    "volume(sisi)"
   ]
  },
  {
   "cell_type": "code",
   "execution_count": null,
   "metadata": {},
   "outputs": [],
   "source": []
  }
 ],
 "metadata": {
  "kernelspec": {
   "display_name": "Python 3",
   "language": "python",
   "name": "python3"
  },
  "language_info": {
   "codemirror_mode": {
    "name": "ipython",
    "version": 3
   },
   "file_extension": ".py",
   "mimetype": "text/x-python",
   "name": "python",
   "nbconvert_exporter": "python",
   "pygments_lexer": "ipython3",
   "version": "3.8.3"
  }
 },
 "nbformat": 4,
 "nbformat_minor": 4
}
