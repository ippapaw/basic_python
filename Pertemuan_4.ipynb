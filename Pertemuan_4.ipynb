{
 "cells": [
  {
   "cell_type": "code",
   "execution_count": 1,
   "metadata": {},
   "outputs": [
    {
     "name": "stdout",
     "output_type": "stream",
     "text": [
      "Nama: farhan\n",
      "Umur: 21\n",
      "Nama: farhan\n",
      "Umur: 22\n",
      "nama\n",
      "farhan\n",
      "andi\n",
      "umur\n",
      "22\n",
      "18\n",
      "Nama: farhan\n",
      "Umur: 22\n",
      "Nama: andi\n",
      "Umur: 18\n"
     ]
    }
   ],
   "source": [
    "#Dictionary\n",
    "\n",
    "pelanggan = {\n",
    "    \"nama\": \"farhan\",\n",
    "    \"umur\": 21\n",
    "}\n",
    "\n",
    "pelanggan_2 = {\n",
    "    \"nama\": \"andi\",\n",
    "    \"umur\": 18\n",
    "}\n",
    "\n",
    "print(\"Nama: {}\".format(pelanggan[\"nama\"]))\n",
    "print(\"Umur: {}\".format(pelanggan[\"umur\"]))\n",
    "\n",
    "# change value of dictionary\n",
    "pelanggan[\"umur\"] = 22\n",
    "\n",
    "print(\"Nama: {}\".format(pelanggan[\"nama\"]))\n",
    "print(\"Umur: {}\".format(pelanggan[\"umur\"]))\n",
    "\n",
    "# loop through dictionary\n",
    "for x in pelanggan:\n",
    "    print(x)\n",
    "    print(pelanggan[x])   \n",
    "    print(pelanggan_2[x])   \n",
    "\n",
    "# list of dictionary\n",
    "daftar_pelanggan = []\n",
    "daftar_pelanggan.append(pelanggan)\n",
    "daftar_pelanggan.append(pelanggan_2)\n",
    "\n",
    "for pelanggan in daftar_pelanggan:\n",
    "    print(\"Nama: {}\".format(pelanggan[\"nama\"]))\n",
    "    print(\"Umur: {}\".format(pelanggan[\"umur\"])) "
   ]
  },
  {
   "cell_type": "code",
   "execution_count": 10,
   "metadata": {},
   "outputs": [
    {
     "name": "stdout",
     "output_type": "stream",
     "text": [
      "Hello from a function\n",
      "Hello James\n",
      "Hello fawwaz\n",
      "The youngest child is Linus\n",
      "The oldest child is Emil\n",
      "The middle child is Tobias\n",
      "15\n",
      "25\n",
      "45\n"
     ]
    }
   ],
   "source": [
    "#Function\n",
    "\n",
    "#general\n",
    "def my_function():\n",
    "    print(\"Hello from a function\")\n",
    "\n",
    "my_function()\n",
    "\n",
    "#parameter\n",
    "def my_function(name):\n",
    "    print(\"Hello \" + name )\n",
    "\n",
    "my_function(\"James\")\n",
    "\n",
    "#default parameter\n",
    "def my_function(name=\"\"):\n",
    "    print(\"Hello \" + name )\n",
    "    \n",
    "my_function(\"fawwaz\")\n",
    "\n",
    "def my_function(child3, child2, child1):\n",
    "    print(\"The youngest child is \" + child3)\n",
    "    print(\"The oldest child is \" + child1)\n",
    "    print(\"The middle child is \" + child2)\n",
    "my_function(child1 = \"Emil\", child2 = \"Tobias\", child3 = \"Linus\")\n",
    "\n",
    "def my_function(x):\n",
    "    return 5 * x\n",
    "print(my_function(3))\n",
    "print(my_function(5))\n",
    "print(my_function(9))"
   ]
  },
  {
   "cell_type": "code",
   "execution_count": null,
   "metadata": {},
   "outputs": [],
   "source": []
  },
  {
   "cell_type": "code",
   "execution_count": 11,
   "metadata": {},
   "outputs": [
    {
     "name": "stdout",
     "output_type": "stream",
     "text": [
      "jeruk\n",
      "-----\n",
      "jeruk\n",
      "apel\n",
      "-----\n",
      "jeruk\n",
      "apel\n",
      "melon\n",
      "-----\n",
      "jeruk\n",
      "apel\n",
      "melon\n",
      "pisang\n",
      "-----\n",
      "5\n",
      "24\n"
     ]
    }
   ],
   "source": [
    "#Latihan\n",
    "\n",
    "#ki\n",
    "\n",
    "nama_buah = []\n",
    "\n",
    "def tambah_nama_buah(nama):\n",
    "    nama_buah.append(nama)\n",
    "    print_nama_buah()\n",
    "\n",
    "def print_nama_buah():\n",
    "    for buah in nama_buah:\n",
    "        print(buah)\n",
    "    print(\"-----\")\n",
    "\n",
    "tambah_nama_buah(\"jeruk\")\n",
    "tambah_nama_buah(\"apel\")\n",
    "tambah_nama_buah(\"melon\")\n",
    "tambah_nama_buah(\"pisang\")\n",
    "\n",
    "def total(x,y):\n",
    "    total = x + y\n",
    "    return total\n",
    "\n",
    "def total_buah_sisa():\n",
    "    return 20\n",
    "\n",
    "jumlah = total(3,2)\n",
    "print(jumlah)\n",
    "\n",
    "total_buah = len(nama_buah) + total_buah_sisa()\n",
    "print(total_buah) "
   ]
  },
  {
   "cell_type": "code",
   "execution_count": null,
   "metadata": {},
   "outputs": [],
   "source": []
  }
 ],
 "metadata": {
  "kernelspec": {
   "display_name": "Python 3",
   "language": "python",
   "name": "python3"
  },
  "language_info": {
   "codemirror_mode": {
    "name": "ipython",
    "version": 3
   },
   "file_extension": ".py",
   "mimetype": "text/x-python",
   "name": "python",
   "nbconvert_exporter": "python",
   "pygments_lexer": "ipython3",
   "version": "3.8.3"
  }
 },
 "nbformat": 4,
 "nbformat_minor": 4
}
